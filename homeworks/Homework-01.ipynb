{
 "cells": [
  {
   "cell_type": "code",
   "execution_count": 2,
   "id": "18762f11-cd54-45e3-a109-91f16ca1d9e9",
   "metadata": {},
   "outputs": [],
   "source": [
    "import pandas as pd\n",
    "from sklearn.feature_extraction import DictVectorizer\n",
    "from sklearn.linear_model import LinearRegression\n",
    "from sklearn.metrics import mean_squared_error\n",
    "import numpy as np"
   ]
  },
  {
   "cell_type": "code",
   "execution_count": 3,
   "id": "cdbbe403-8ddf-44d8-811a-ea25847ed206",
   "metadata": {},
   "outputs": [],
   "source": [
    "data = pd.read_parquet('../data/yellow_tripdata_2023-01.parquet')"
   ]
  },
  {
   "cell_type": "code",
   "execution_count": 12,
   "id": "17f51c81-f7d7-490c-8f2d-1667a7c86eb3",
   "metadata": {},
   "outputs": [
    {
     "data": {
      "text/plain": [
       "Index(['VendorID', 'tpep_pickup_datetime', 'tpep_dropoff_datetime',\n",
       "       'passenger_count', 'trip_distance', 'RatecodeID', 'store_and_fwd_flag',\n",
       "       'PULocationID', 'DOLocationID', 'payment_type', 'fare_amount', 'extra',\n",
       "       'mta_tax', 'tip_amount', 'tolls_amount', 'improvement_surcharge',\n",
       "       'total_amount', 'congestion_surcharge', 'airport_fee'],\n",
       "      dtype='object')"
      ]
     },
     "execution_count": 12,
     "metadata": {},
     "output_type": "execute_result"
    }
   ],
   "source": [
    "data.columns"
   ]
  },
  {
   "cell_type": "code",
   "execution_count": 13,
   "id": "0672128a-fd29-4ee2-b7e7-d9a46dea72b0",
   "metadata": {},
   "outputs": [
    {
     "data": {
      "text/plain": [
       "19"
      ]
     },
     "execution_count": 13,
     "metadata": {},
     "output_type": "execute_result"
    }
   ],
   "source": [
    "num_columns = len(data.columns)\n",
    "num_columns"
   ]
  },
  {
   "cell_type": "code",
   "execution_count": 4,
   "id": "41d1e610-bcd4-49aa-b053-dfb20d682f15",
   "metadata": {},
   "outputs": [
    {
     "data": {
      "text/plain": [
       "42.59435124195458"
      ]
     },
     "execution_count": 4,
     "metadata": {},
     "output_type": "execute_result"
    }
   ],
   "source": [
    "\n",
    "# Pickup ve dropoff zamanlarını datetime formatına çevir\n",
    "data['tpep_pickup_datetime'] = pd.to_datetime(data['tpep_pickup_datetime'])\n",
    "data['tpep_dropoff_datetime'] = pd.to_datetime(data['tpep_dropoff_datetime'])\n",
    "\n",
    "# Süreyi hesapla (dakika cinsinden)\n",
    "data['duration'] = (data['tpep_dropoff_datetime'] - data['tpep_pickup_datetime']).dt.total_seconds() / 60\n",
    "\n",
    "# Standart sapmayı hesapla\n",
    "std_duration = data['duration'].std()\n",
    "std_duration"
   ]
  },
  {
   "cell_type": "code",
   "execution_count": 5,
   "id": "46c0eadc-f567-454f-a987-ef3c8819fbe0",
   "metadata": {},
   "outputs": [
    {
     "data": {
      "text/plain": [
       "0.9812202822125979"
      ]
     },
     "execution_count": 5,
     "metadata": {},
     "output_type": "execute_result"
    }
   ],
   "source": [
    "# Orijinal kayıt sayısı\n",
    "original_count = len(data)\n",
    "\n",
    "# 1 ile 60 dakika arasındaki süreleri filtrele\n",
    "filtered_data = data[(data['duration'] >= 1) & (data['duration'] <= 60)]\n",
    "\n",
    "# Kalan kayıt sayısı\n",
    "filtered_count = len(filtered_data)\n",
    "\n",
    "# Kalan kayıtların oranı\n",
    "fraction_remaining = filtered_count / original_count\n",
    "fraction_remaining"
   ]
  },
  {
   "cell_type": "code",
   "execution_count": 6,
   "id": "cd00cdbc-ec17-4c7d-bdfe-e7dd085c060b",
   "metadata": {},
   "outputs": [
    {
     "name": "stderr",
     "output_type": "stream",
     "text": [
      "/tmp/ipykernel_17048/594092560.py:5: SettingWithCopyWarning: \n",
      "A value is trying to be set on a copy of a slice from a DataFrame.\n",
      "Try using .loc[row_indexer,col_indexer] = value instead\n",
      "\n",
      "See the caveats in the documentation: https://pandas.pydata.org/pandas-docs/stable/user_guide/indexing.html#returning-a-view-versus-a-copy\n",
      "  filtered_data[categorical] = filtered_data[categorical].fillna(-1).astype('int')\n",
      "/tmp/ipykernel_17048/594092560.py:6: SettingWithCopyWarning: \n",
      "A value is trying to be set on a copy of a slice from a DataFrame.\n",
      "Try using .loc[row_indexer,col_indexer] = value instead\n",
      "\n",
      "See the caveats in the documentation: https://pandas.pydata.org/pandas-docs/stable/user_guide/indexing.html#returning-a-view-versus-a-copy\n",
      "  filtered_data[categorical] = filtered_data[categorical].astype('str')\n"
     ]
    },
    {
     "data": {
      "text/plain": [
       "515"
      ]
     },
     "execution_count": 6,
     "metadata": {},
     "output_type": "execute_result"
    }
   ],
   "source": [
    "\n",
    "# Kategorik kolonlar\n",
    "categorical = ['PULocationID', 'DOLocationID']\n",
    "\n",
    "# Pickup ve dropoff location ID'lerini string'e çevir ve eksik değerleri doldur\n",
    "filtered_data[categorical] = filtered_data[categorical].fillna(-1).astype('int')\n",
    "filtered_data[categorical] = filtered_data[categorical].astype('str')\n",
    "\n",
    "# Veriyi sözlükler listesine dönüştür\n",
    "train_dicts = filtered_data[categorical].to_dict(orient='records')\n",
    "\n",
    "# Bellek kullanımı optimize etmek için DictVectorizer'da sparse=True kullan\n",
    "dv = DictVectorizer()\n",
    "X_train = dv.fit_transform(train_dicts)\n",
    "\n",
    "# Elde edilen matrisin boyutunu belirle\n",
    "dimensionality = X_train.shape[1]\n",
    "dimensionality"
   ]
  },
  {
   "cell_type": "code",
   "execution_count": 7,
   "id": "7d4297ac-eb3d-4486-b044-c6717b250ab5",
   "metadata": {},
   "outputs": [
    {
     "name": "stderr",
     "output_type": "stream",
     "text": [
      "/home/codespace/.local/share/virtualenvs/mlops2024-gafP0hHq/lib/python3.10/site-packages/sklearn/metrics/_regression.py:483: FutureWarning: 'squared' is deprecated in version 1.4 and will be removed in 1.6. To calculate the root mean squared error, use the function'root_mean_squared_error'.\n",
      "  warnings.warn(\n"
     ]
    },
    {
     "data": {
      "text/plain": [
       "7.649261932106969"
      ]
     },
     "execution_count": 7,
     "metadata": {},
     "output_type": "execute_result"
    }
   ],
   "source": [
    "\n",
    "# Hedef değişkeni oluştur\n",
    "y_train = filtered_data['duration'].values\n",
    "\n",
    "# Lineer regresyon modelini eğit\n",
    "model = LinearRegression()\n",
    "model.fit(X_train, y_train)\n",
    "\n",
    "# Eğitim verisi üzerinde tahminlerde bulun\n",
    "y_pred_train = model.predict(X_train)\n",
    "rmse_train = mean_squared_error(y_train, y_pred_train, squared=False)\n",
    "rmse_train"
   ]
  },
  {
   "cell_type": "code",
   "execution_count": 8,
   "id": "21f089c9-6c1c-45d5-a9e9-07bb72c3d62d",
   "metadata": {
    "scrolled": true
   },
   "outputs": [
    {
     "name": "stdout",
     "output_type": "stream",
     "text": [
      "--2024-05-24 19:50:52--  https://d37ci6vzurychx.cloudfront.net/trip-data/yellow_tripdata_2023-02.parquet\n",
      "Resolving d37ci6vzurychx.cloudfront.net (d37ci6vzurychx.cloudfront.net)... 18.239.190.224, 18.239.190.168, 18.239.190.192, ...\n",
      "Connecting to d37ci6vzurychx.cloudfront.net (d37ci6vzurychx.cloudfront.net)|18.239.190.224|:443... connected.\n",
      "HTTP request sent, awaiting response... 200 OK\n",
      "Length: 47748012 (46M) [application/x-www-form-urlencoded]\n",
      "Saving to: ‘../data/yellow_tripdata_2023-02.parquet.1’\n",
      "\n",
      "yellow_tripdata_202 100%[===================>]  45.54M  71.0MB/s    in 0.6s    \n",
      "\n",
      "2024-05-24 19:50:53 (71.0 MB/s) - ‘../data/yellow_tripdata_2023-02.parquet.1’ saved [47748012/47748012]\n",
      "\n"
     ]
    }
   ],
   "source": [
    "!wget -P ../data https://d37ci6vzurychx.cloudfront.net/trip-data/yellow_tripdata_2023-02.parquet"
   ]
  },
  {
   "cell_type": "code",
   "execution_count": null,
   "id": "a96dc5fa-5e94-4999-b812-45d063028197",
   "metadata": {},
   "outputs": [],
   "source": [
    "# Read the validation data\n",
    "data_feb = pd.read_parquet('../data/yellow_tripdata_2023-02.parquet')\n",
    "\n",
    "# Convert pickup and dropoff times to datetime\n",
    "data_feb['tpep_pickup_datetime'] = pd.to_datetime(data_feb['tpep_pickup_datetime'])\n",
    "data_feb['tpep_dropoff_datetime'] = pd.to_datetime(data_feb['tpep_dropoff_datetime'])\n",
    "\n",
    "# Calculate duration in minutes\n",
    "data_feb['duration'] = (data_feb['tpep_dropoff_datetime'] - data_feb['tpep_pickup_datetime']).dt.total_seconds() / 60\n",
    "\n",
    "# Filter trips with duration between 1 and 60 minutes\n",
    "filtered_data_feb = data_feb[(data_feb['duration'] >= 1) & (data_feb['duration'] <= 60)].copy()\n",
    "\n",
    "# Fill missing values and convert to string\n",
    "filtered_data_feb[categorical] = filtered_data_feb[categorical].fillna(-1).astype('int')\n",
    "filtered_data_feb[categorical] = filtered_data_feb[categorical].astype('str')\n",
    "\n",
    "# Convert to list of dictionaries\n",
    "val_dicts = filtered_data_feb[categorical].to_dict(orient='records')\n",
    "\n",
    "# Get the feature matrix for the validation data\n",
    "X_val = dv.transform(val_dicts)\n",
    "\n",
    "# Predict and calculate RMSE on the validation data\n",
    "y_pred_val = model.predict(X_val)\n",
    "rmse_val = mean_squared_error(filtered_data_feb['duration'], y_pred_val, squared=False)\n",
    "rmse_val"
   ]
  }
 ],
 "metadata": {
  "kernelspec": {
   "display_name": "Python 3 (ipykernel)",
   "language": "python",
   "name": "python3"
  },
  "language_info": {
   "codemirror_mode": {
    "name": "ipython",
    "version": 3
   },
   "file_extension": ".py",
   "mimetype": "text/x-python",
   "name": "python",
   "nbconvert_exporter": "python",
   "pygments_lexer": "ipython3",
   "version": "3.10.13"
  }
 },
 "nbformat": 4,
 "nbformat_minor": 5
}
