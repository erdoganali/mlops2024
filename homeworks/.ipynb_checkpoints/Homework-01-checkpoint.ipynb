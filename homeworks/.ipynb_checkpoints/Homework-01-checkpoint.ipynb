{
 "cells": [
  {
   "cell_type": "code",
   "execution_count": 2,
   "id": "18762f11-cd54-45e3-a109-91f16ca1d9e9",
   "metadata": {},
   "outputs": [],
   "source": [
    "import pandas as pd\n",
    "from sklearn.feature_extraction import DictVectorizer\n",
    "from sklearn.linear_model import LinearRegression\n",
    "from sklearn.metrics import mean_squared_error\n",
    "import numpy as np"
   ]
  },
  {
   "cell_type": "code",
   "execution_count": 3,
   "id": "cdbbe403-8ddf-44d8-811a-ea25847ed206",
   "metadata": {},
   "outputs": [],
   "source": [
    "data = pd.read_parquet('../data/yellow_tripdata_2023-01.parquet')"
   ]
  },
  {
   "cell_type": "code",
   "execution_count": 4,
   "id": "17f51c81-f7d7-490c-8f2d-1667a7c86eb3",
   "metadata": {},
   "outputs": [
    {
     "data": {
      "text/plain": [
       "Index(['VendorID', 'tpep_pickup_datetime', 'tpep_dropoff_datetime',\n",
       "       'passenger_count', 'trip_distance', 'RatecodeID', 'store_and_fwd_flag',\n",
       "       'PULocationID', 'DOLocationID', 'payment_type', 'fare_amount', 'extra',\n",
       "       'mta_tax', 'tip_amount', 'tolls_amount', 'improvement_surcharge',\n",
       "       'total_amount', 'congestion_surcharge', 'airport_fee'],\n",
       "      dtype='object')"
      ]
     },
     "execution_count": 4,
     "metadata": {},
     "output_type": "execute_result"
    }
   ],
   "source": [
    "data.columns"
   ]
  },
  {
   "cell_type": "code",
   "execution_count": 5,
   "id": "0672128a-fd29-4ee2-b7e7-d9a46dea72b0",
   "metadata": {},
   "outputs": [
    {
     "data": {
      "text/plain": [
       "19"
      ]
     },
     "execution_count": 5,
     "metadata": {},
     "output_type": "execute_result"
    }
   ],
   "source": [
    "num_columns = len(data.columns)\n",
    "num_columns"
   ]
  },
  {
   "cell_type": "code",
   "execution_count": 6,
   "id": "41d1e610-bcd4-49aa-b053-dfb20d682f15",
   "metadata": {},
   "outputs": [
    {
     "data": {
      "text/plain": [
       "42.59435124195458"
      ]
     },
     "execution_count": 6,
     "metadata": {},
     "output_type": "execute_result"
    }
   ],
   "source": [
    "\n",
    "# Pickup ve dropoff zamanlarını datetime formatına çevir\n",
    "data['tpep_pickup_datetime'] = pd.to_datetime(data['tpep_pickup_datetime'])\n",
    "data['tpep_dropoff_datetime'] = pd.to_datetime(data['tpep_dropoff_datetime'])\n",
    "\n",
    "# Süreyi hesapla (dakika cinsinden)\n",
    "data['duration'] = (data['tpep_dropoff_datetime'] - data['tpep_pickup_datetime']).dt.total_seconds() / 60\n",
    "\n",
    "# Standart sapmayı hesapla\n",
    "std_duration = data['duration'].std()\n",
    "std_duration"
   ]
  },
  {
   "cell_type": "code",
   "execution_count": 6,
   "id": "46c0eadc-f567-454f-a987-ef3c8819fbe0",
   "metadata": {},
   "outputs": [
    {
     "data": {
      "text/plain": [
       "0.9812202822125979"
      ]
     },
     "execution_count": 6,
     "metadata": {},
     "output_type": "execute_result"
    }
   ],
   "source": [
    "# Orijinal kayıt sayısı\n",
    "original_count = len(data)\n",
    "\n",
    "# 1 ile 60 dakika arasındaki süreleri filtrele\n",
    "filtered_data = data[(data['duration'] >= 1) & (data['duration'] <= 60)]\n",
    "\n",
    "# Kalan kayıt sayısı\n",
    "filtered_count = len(filtered_data)\n",
    "\n",
    "# Kalan kayıtların oranı\n",
    "fraction_remaining = filtered_count / original_count\n",
    "fraction_remaining"
   ]
  },
  {
   "cell_type": "code",
   "execution_count": 7,
   "id": "83e24d35-42bc-4411-a8ab-5f834d52b941",
   "metadata": {},
   "outputs": [
    {
     "name": "stdout",
     "output_type": "stream",
     "text": [
      "The dimensionality of the feature matrix is: 518 columns\n"
     ]
    }
   ],
   "source": [
    "# Pickup ve dropoff location ID'lerini string'e çevir ve eksik değerleri doldur\n",
    "data['PULocationID'] = data['PULocationID'].fillna(-1).astype(int).astype(str)\n",
    "data['DOLocationID'] = data['DOLocationID'].fillna(-1).astype(int).astype(str)\n",
    "\n",
    "# Veriyi sözlükler listesine dönüştür\n",
    "data_dict = data[['PULocationID', 'DOLocationID']].to_dict(orient='records')\n",
    "\n",
    "# Bellek kullanımı optimize etmek için DictVectorizer'da sparse=True kullan\n",
    "dv = DictVectorizer(sparse=True)\n",
    "feature_matrix = dv.fit_transform(data_dict)\n",
    "\n",
    "# Elde edilen matrisin boyutunu belirle\n",
    "num_columns = feature_matrix.shape[1]\n",
    "print(f\"The dimensionality of the feature matrix is: {num_columns} columns\")"
   ]
  },
  {
   "cell_type": "code",
   "execution_count": 8,
   "id": "7d4297ac-eb3d-4486-b044-c6717b250ab5",
   "metadata": {},
   "outputs": [
    {
     "name": "stdout",
     "output_type": "stream",
     "text": [
      "RMSE on the training data: 41.9964977084757\n"
     ]
    }
   ],
   "source": [
    "\n",
    "# Hedef değişkeni oluştur\n",
    "target = data['duration'].values\n",
    "\n",
    "# Lineer regresyon modelini eğit\n",
    "model = LinearRegression()\n",
    "model.fit(feature_matrix, target)\n",
    "\n",
    "# Eğitim verisi üzerinde tahminlerde bulun\n",
    "predictions = model.predict(feature_matrix)\n",
    "\n",
    "# RMSE'yi hesapla\n",
    "rmse = np.sqrt(mean_squared_error(target, predictions))\n",
    "print(f\"RMSE on the training data: {rmse}\")"
   ]
  }
 ],
 "metadata": {
  "kernelspec": {
   "display_name": "Python 3 (ipykernel)",
   "language": "python",
   "name": "python3"
  },
  "language_info": {
   "codemirror_mode": {
    "name": "ipython",
    "version": 3
   },
   "file_extension": ".py",
   "mimetype": "text/x-python",
   "name": "python",
   "nbconvert_exporter": "python",
   "pygments_lexer": "ipython3",
   "version": "3.10.13"
  }
 },
 "nbformat": 4,
 "nbformat_minor": 5
}
